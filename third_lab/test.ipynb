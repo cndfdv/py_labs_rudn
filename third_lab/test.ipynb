{
 "cells": [
  {
   "cell_type": "code",
   "execution_count": 1,
   "metadata": {},
   "outputs": [
    {
     "name": "stdout",
     "output_type": "stream",
     "text": [
      "Тип фигуры: Rectangle\n",
      "Площадь: 50.00\n",
      "Периметр: 30.00\n",
      "\n",
      "Тип фигуры: Circle\n",
      "Площадь: 50.27\n",
      "Периметр: 25.13\n",
      "\n",
      "Тип фигуры: Triangle\n",
      "Площадь: 6.00\n",
      "Периметр: 12.00\n",
      "\n"
     ]
    }
   ],
   "source": [
    "import students\n",
    "import teacher\n",
    "import figures\n",
    "import bank\n",
    "import additional_1\n",
    "import additional_2"
   ]
  },
  {
   "cell_type": "markdown",
   "metadata": {},
   "source": [
    "Task 1: student class"
   ]
  },
  {
   "cell_type": "code",
   "execution_count": 2,
   "metadata": {},
   "outputs": [
    {
     "name": "stdout",
     "output_type": "stream",
     "text": [
      "Student id: 14\n",
      "Student_name: Arsenii Kniazev\n",
      "Student grades: [10, 10, 9, 10, 9, 10]\n",
      "Student mean grade: 9.666666666666666\n",
      "Student id: 14\n",
      "Student_name: Arsenii Kniazev\n",
      "Student grades: [10, 10, 9, 10, 9, 10, 10]\n",
      "Student mean grade: 9.714285714285714\n"
     ]
    },
    {
     "ename": "ValueError",
     "evalue": "Grade must be from 0 to 10",
     "output_type": "error",
     "traceback": [
      "\u001b[1;31m---------------------------------------------------------------------------\u001b[0m",
      "\u001b[1;31mValueError\u001b[0m                                Traceback (most recent call last)",
      "Cell \u001b[1;32mIn[2], line 5\u001b[0m\n\u001b[0;32m      3\u001b[0m student\u001b[38;5;241m.\u001b[39madd_grade(\u001b[38;5;241m10\u001b[39m)\n\u001b[0;32m      4\u001b[0m student\u001b[38;5;241m.\u001b[39mdisplay_info()\n\u001b[1;32m----> 5\u001b[0m \u001b[43mstudent\u001b[49m\u001b[38;5;241;43m.\u001b[39;49m\u001b[43madd_grade\u001b[49m\u001b[43m(\u001b[49m\u001b[38;5;241;43m11\u001b[39;49m\u001b[43m)\u001b[49m\n",
      "File \u001b[1;32mc:\\Users\\knyze\\Documents\\osn\\progs\\py_labs_rudn\\third_lab\\students.py:41\u001b[0m, in \u001b[0;36mStudent.add_grade\u001b[1;34m(self, grade)\u001b[0m\n\u001b[0;32m     39\u001b[0m     \u001b[38;5;28mself\u001b[39m\u001b[38;5;241m.\u001b[39mgrades\u001b[38;5;241m.\u001b[39mappend(grade)\n\u001b[0;32m     40\u001b[0m \u001b[38;5;28;01melse\u001b[39;00m:\n\u001b[1;32m---> 41\u001b[0m     \u001b[38;5;28;01mraise\u001b[39;00m \u001b[38;5;167;01mValueError\u001b[39;00m(\u001b[38;5;124m'\u001b[39m\u001b[38;5;124mGrade must be from 0 to 10\u001b[39m\u001b[38;5;124m'\u001b[39m)\n",
      "\u001b[1;31mValueError\u001b[0m: Grade must be from 0 to 10"
     ]
    }
   ],
   "source": [
    "student = students.Student(\"Arsenii Kniazev\", 14, [10, 10, 9, 10, 9, 10])\n",
    "student.display_info()\n",
    "student.add_grade(10)\n",
    "student.display_info()\n",
    "student.add_grade(11)"
   ]
  },
  {
   "cell_type": "markdown",
   "metadata": {},
   "source": [
    "Task 2: teacher class"
   ]
  },
  {
   "cell_type": "code",
   "execution_count": 3,
   "metadata": {},
   "outputs": [
    {
     "name": "stdout",
     "output_type": "stream",
     "text": [
      "1: Arsenii Kniazev\n",
      "Arsenii Kniazev removed\n",
      "0 students\n"
     ]
    },
    {
     "ename": "ValueError",
     "evalue": "No students was found",
     "output_type": "error",
     "traceback": [
      "\u001b[1;31m---------------------------------------------------------------------------\u001b[0m",
      "\u001b[1;31mValueError\u001b[0m                                Traceback (most recent call last)",
      "Cell \u001b[1;32mIn[3], line 6\u001b[0m\n\u001b[0;32m      4\u001b[0m teacher\u001b[38;5;241m.\u001b[39mremove_student(\u001b[38;5;241m14\u001b[39m)\n\u001b[0;32m      5\u001b[0m teacher\u001b[38;5;241m.\u001b[39mlist_students()\n\u001b[1;32m----> 6\u001b[0m \u001b[43mteacher\u001b[49m\u001b[38;5;241;43m.\u001b[39;49m\u001b[43mremove_student\u001b[49m\u001b[43m(\u001b[49m\u001b[38;5;241;43m14\u001b[39;49m\u001b[43m)\u001b[49m\n",
      "File \u001b[1;32mc:\\Users\\knyze\\Documents\\osn\\progs\\py_labs_rudn\\third_lab\\teacher.py:75\u001b[0m, in \u001b[0;36mTeacher.remove_student\u001b[1;34m(self, student_id)\u001b[0m\n\u001b[0;32m     72\u001b[0m         \u001b[38;5;28;01mbreak\u001b[39;00m\n\u001b[0;32m     74\u001b[0m \u001b[38;5;28;01mif\u001b[39;00m flag:\n\u001b[1;32m---> 75\u001b[0m     \u001b[38;5;28;01mraise\u001b[39;00m \u001b[38;5;167;01mValueError\u001b[39;00m(\u001b[38;5;124m'\u001b[39m\u001b[38;5;124mNo students was found\u001b[39m\u001b[38;5;124m'\u001b[39m)\n",
      "\u001b[1;31mValueError\u001b[0m: No students was found"
     ]
    }
   ],
   "source": [
    "teacher = teacher.Teacher(\"teacher\", 35, \"Mathematics\", [])\n",
    "teacher.add_student(\"Arsenii Kniazev\", 14, [10, 10, 9, 10, 9, 10])\n",
    "teacher.list_students()\n",
    "teacher.remove_student(14)\n",
    "teacher.list_students()\n",
    "teacher.remove_student(14)"
   ]
  },
  {
   "cell_type": "markdown",
   "metadata": {},
   "source": [
    "Task 3: figures"
   ]
  },
  {
   "cell_type": "code",
   "execution_count": 4,
   "metadata": {},
   "outputs": [
    {
     "name": "stdout",
     "output_type": "stream",
     "text": [
      "Тип фигуры: Rectangle\n",
      "Площадь: 50.00\n",
      "Периметр: 30.00\n",
      "\n",
      "Тип фигуры: Circle\n",
      "Площадь: 50.27\n",
      "Периметр: 25.13\n",
      "\n",
      "Тип фигуры: Triangle\n",
      "Площадь: 6.00\n",
      "Периметр: 12.00\n",
      "\n"
     ]
    }
   ],
   "source": [
    "from figures import Circle, Rectangle, Triangle, print_shape_info\n",
    "\n",
    "shapes = [\n",
    "    Rectangle(5, 10),\n",
    "    Circle(4),\n",
    "    Triangle(3, 4, 5)\n",
    "]\n",
    "\n",
    "for shape in shapes:\n",
    "    print_shape_info(shape)"
   ]
  },
  {
   "cell_type": "markdown",
   "metadata": {},
   "source": [
    "Task 4: bank account"
   ]
  },
  {
   "cell_type": "code",
   "execution_count": 5,
   "metadata": {},
   "outputs": [
    {
     "name": "stdout",
     "output_type": "stream",
     "text": [
      "balance 1300\n"
     ]
    },
    {
     "ename": "ValueError",
     "evalue": "Dont have enough money",
     "output_type": "error",
     "traceback": [
      "\u001b[1;31m---------------------------------------------------------------------------\u001b[0m",
      "\u001b[1;31mValueError\u001b[0m                                Traceback (most recent call last)",
      "Cell \u001b[1;32mIn[5], line 5\u001b[0m\n\u001b[0;32m      3\u001b[0m account\u001b[38;5;241m.\u001b[39mwithdraw(\u001b[38;5;241m200\u001b[39m)\n\u001b[0;32m      4\u001b[0m \u001b[38;5;28mprint\u001b[39m(\u001b[38;5;124m\"\u001b[39m\u001b[38;5;124mbalance\u001b[39m\u001b[38;5;124m\"\u001b[39m, account\u001b[38;5;241m.\u001b[39mbalance)\n\u001b[1;32m----> 5\u001b[0m \u001b[43maccount\u001b[49m\u001b[38;5;241;43m.\u001b[39;49m\u001b[43mwithdraw\u001b[49m\u001b[43m(\u001b[49m\u001b[38;5;241;43m2000\u001b[39;49m\u001b[43m)\u001b[49m\n",
      "File \u001b[1;32mc:\\Users\\knyze\\Documents\\osn\\progs\\py_labs_rudn\\third_lab\\bank.py:33\u001b[0m, in \u001b[0;36mBankAccount.withdraw\u001b[1;34m(self, amount)\u001b[0m\n\u001b[0;32m     31\u001b[0m     \u001b[38;5;28;01mraise\u001b[39;00m \u001b[38;5;167;01mValueError\u001b[39;00m(\u001b[38;5;124m\"\u001b[39m\u001b[38;5;124mWithdrawal amount must be positive\u001b[39m\u001b[38;5;124m\"\u001b[39m)\n\u001b[0;32m     32\u001b[0m \u001b[38;5;28;01mif\u001b[39;00m amount \u001b[38;5;241m>\u001b[39m \u001b[38;5;28mself\u001b[39m\u001b[38;5;241m.\u001b[39m_balance:\n\u001b[1;32m---> 33\u001b[0m     \u001b[38;5;28;01mraise\u001b[39;00m \u001b[38;5;167;01mValueError\u001b[39;00m(\u001b[38;5;124m\"\u001b[39m\u001b[38;5;124mDont have enough money\u001b[39m\u001b[38;5;124m\"\u001b[39m)\n\u001b[0;32m     35\u001b[0m \u001b[38;5;28mself\u001b[39m\u001b[38;5;241m.\u001b[39m_balance \u001b[38;5;241m-\u001b[39m\u001b[38;5;241m=\u001b[39m amount\n\u001b[0;32m     36\u001b[0m \u001b[38;5;28mself\u001b[39m\u001b[38;5;241m.\u001b[39m_transactions\u001b[38;5;241m.\u001b[39mappend(\u001b[38;5;124mf\u001b[39m\u001b[38;5;124m\"\u001b[39m\u001b[38;5;124mWithdrew: \u001b[39m\u001b[38;5;132;01m{\u001b[39;00mamount\u001b[38;5;132;01m}\u001b[39;00m\u001b[38;5;124m\"\u001b[39m)\n",
      "\u001b[1;31mValueError\u001b[0m: Dont have enough money"
     ]
    }
   ],
   "source": [
    "account = bank.BankAccount(1000)\n",
    "account.deposit(500)\n",
    "account.withdraw(200)\n",
    "print(\"balance\", account.balance)\n",
    "account.withdraw(2000)"
   ]
  },
  {
   "cell_type": "markdown",
   "metadata": {},
   "source": [
    "Task additional 1: temperature"
   ]
  },
  {
   "cell_type": "code",
   "execution_count": 6,
   "metadata": {},
   "outputs": [
    {
     "name": "stdout",
     "output_type": "stream",
     "text": [
      "celsius: 25\n",
      "fahrenheit: 77.0\n",
      "celsius: 100\n",
      "fahrenheit: 212.0\n"
     ]
    }
   ],
   "source": [
    "temperature = additional_1.Temperature(25)\n",
    "print(\"celsius:\", temperature.celsius)\n",
    "print(\"fahrenheit:\", temperature.fahrenheit)\n",
    "temperature.celsius = 100\n",
    "print(\"celsius:\", temperature.celsius)\n",
    "print(\"fahrenheit:\", temperature.fahrenheit)"
   ]
  },
  {
   "cell_type": "markdown",
   "metadata": {},
   "source": [
    "Task additional 2: Assistant"
   ]
  },
  {
   "cell_type": "code",
   "execution_count": 8,
   "metadata": {},
   "outputs": [
    {
     "name": "stdout",
     "output_type": "stream",
     "text": [
      "teacher is helping Kniazev Arsenii with Math.\n",
      "Kniazev Arsenii have marks: [2, 2, 2]\n"
     ]
    }
   ],
   "source": [
    "assistant = additional_2.Assistant(1, \"Kniazev Arsenii\", [2, 2, 2], \"teacher\", 35, \"Math\")\n",
    "assistant.help_student()"
   ]
  }
 ],
 "metadata": {
  "kernelspec": {
   "display_name": "base",
   "language": "python",
   "name": "python3"
  },
  "language_info": {
   "codemirror_mode": {
    "name": "ipython",
    "version": 3
   },
   "file_extension": ".py",
   "mimetype": "text/x-python",
   "name": "python",
   "nbconvert_exporter": "python",
   "pygments_lexer": "ipython3",
   "version": "3.12.7"
  }
 },
 "nbformat": 4,
 "nbformat_minor": 2
}
