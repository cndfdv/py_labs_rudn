{
 "cells": [
  {
   "cell_type": "code",
   "execution_count": 1,
   "id": "0a1c27d4",
   "metadata": {},
   "outputs": [
    {
     "data": {
      "text/plain": [
       "'31.3.2023\\n25.7.2022\\n29.11.2025\\n15.8.2020\\n31.6.2021\\n24.8.2021\\n22.10.2026\\n7.4.2023\\n7.9.2023\\n30.1.2023\\n'"
      ]
     },
     "execution_count": 1,
     "metadata": {},
     "output_type": "execute_result"
    }
   ],
   "source": [
    "with open('text.txt') as file:\n",
    "    text = file.read()\n",
    "text"
   ]
  },
  {
   "cell_type": "code",
   "execution_count": null,
   "id": "0bf82db4",
   "metadata": {},
   "outputs": [],
   "source": []
  }
 ],
 "metadata": {
  "kernelspec": {
   "display_name": "base",
   "language": "python",
   "name": "python3"
  },
  "language_info": {
   "codemirror_mode": {
    "name": "ipython",
    "version": 3
   },
   "file_extension": ".py",
   "mimetype": "text/x-python",
   "name": "python",
   "nbconvert_exporter": "python",
   "pygments_lexer": "ipython3",
   "version": "3.12.7"
  }
 },
 "nbformat": 4,
 "nbformat_minor": 5
}
