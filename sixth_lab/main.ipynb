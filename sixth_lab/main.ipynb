{
 "cells": [
  {
   "cell_type": "code",
   "execution_count": null,
   "id": "8eac0da6",
   "metadata": {},
   "outputs": [],
   "source": [
    "import matplotlib.pyplot as plt\n",
    "import pandas as pd"
   ]
  },
  {
   "cell_type": "code",
   "execution_count": 39,
   "id": "5eb77ffe",
   "metadata": {},
   "outputs": [],
   "source": [
    "df = pd.read_csv(\"./students.csv\")"
   ]
  },
  {
   "cell_type": "markdown",
   "id": "42dfb666",
   "metadata": {},
   "source": [
    "### 1 ###"
   ]
  },
  {
   "cell_type": "code",
   "execution_count": 40,
   "id": "59f1384f",
   "metadata": {},
   "outputs": [
    {
     "data": {
      "application/vnd.microsoft.datawrangler.viewer.v0+json": {
       "columns": [
        {
         "name": "index",
         "rawType": "int64",
         "type": "integer"
        },
        {
         "name": "Name",
         "rawType": "object",
         "type": "string"
        },
        {
         "name": "Age",
         "rawType": "int64",
         "type": "integer"
        },
        {
         "name": "Group",
         "rawType": "object",
         "type": "string"
        },
        {
         "name": "Score",
         "rawType": "float64",
         "type": "float"
        }
       ],
       "ref": "c6c2c81e-d4b7-41aa-9f87-215b6f328e01",
       "rows": [
        [
         "0",
         "Anna",
         "19",
         "A",
         "85.0"
        ],
        [
         "1",
         "Boris",
         "21",
         "B",
         "78.0"
        ],
        [
         "2",
         "Clara",
         "20",
         "A",
         "92.0"
        ],
        [
         "3",
         "Dmitry",
         "22",
         "C",
         "67.0"
        ],
        [
         "4",
         "Elena",
         "19",
         "B",
         "55.0"
        ]
       ],
       "shape": {
        "columns": 4,
        "rows": 5
       }
      },
      "text/html": [
       "<div>\n",
       "<style scoped>\n",
       "    .dataframe tbody tr th:only-of-type {\n",
       "        vertical-align: middle;\n",
       "    }\n",
       "\n",
       "    .dataframe tbody tr th {\n",
       "        vertical-align: top;\n",
       "    }\n",
       "\n",
       "    .dataframe thead th {\n",
       "        text-align: right;\n",
       "    }\n",
       "</style>\n",
       "<table border=\"1\" class=\"dataframe\">\n",
       "  <thead>\n",
       "    <tr style=\"text-align: right;\">\n",
       "      <th></th>\n",
       "      <th>Name</th>\n",
       "      <th>Age</th>\n",
       "      <th>Group</th>\n",
       "      <th>Score</th>\n",
       "    </tr>\n",
       "  </thead>\n",
       "  <tbody>\n",
       "    <tr>\n",
       "      <th>0</th>\n",
       "      <td>Anna</td>\n",
       "      <td>19</td>\n",
       "      <td>A</td>\n",
       "      <td>85.0</td>\n",
       "    </tr>\n",
       "    <tr>\n",
       "      <th>1</th>\n",
       "      <td>Boris</td>\n",
       "      <td>21</td>\n",
       "      <td>B</td>\n",
       "      <td>78.0</td>\n",
       "    </tr>\n",
       "    <tr>\n",
       "      <th>2</th>\n",
       "      <td>Clara</td>\n",
       "      <td>20</td>\n",
       "      <td>A</td>\n",
       "      <td>92.0</td>\n",
       "    </tr>\n",
       "    <tr>\n",
       "      <th>3</th>\n",
       "      <td>Dmitry</td>\n",
       "      <td>22</td>\n",
       "      <td>C</td>\n",
       "      <td>67.0</td>\n",
       "    </tr>\n",
       "    <tr>\n",
       "      <th>4</th>\n",
       "      <td>Elena</td>\n",
       "      <td>19</td>\n",
       "      <td>B</td>\n",
       "      <td>55.0</td>\n",
       "    </tr>\n",
       "  </tbody>\n",
       "</table>\n",
       "</div>"
      ],
      "text/plain": [
       "     Name  Age Group  Score\n",
       "0    Anna   19     A   85.0\n",
       "1   Boris   21     B   78.0\n",
       "2   Clara   20     A   92.0\n",
       "3  Dmitry   22     C   67.0\n",
       "4   Elena   19     B   55.0"
      ]
     },
     "execution_count": 40,
     "metadata": {},
     "output_type": "execute_result"
    }
   ],
   "source": [
    "df.head()"
   ]
  },
  {
   "cell_type": "code",
   "execution_count": 41,
   "id": "d7ee75a3",
   "metadata": {},
   "outputs": [
    {
     "name": "stdout",
     "output_type": "stream",
     "text": [
      "<class 'pandas.core.frame.DataFrame'>\n",
      "RangeIndex: 20 entries, 0 to 19\n",
      "Data columns (total 4 columns):\n",
      " #   Column  Non-Null Count  Dtype  \n",
      "---  ------  --------------  -----  \n",
      " 0   Name    20 non-null     object \n",
      " 1   Age     20 non-null     int64  \n",
      " 2   Group   20 non-null     object \n",
      " 3   Score   19 non-null     float64\n",
      "dtypes: float64(1), int64(1), object(2)\n",
      "memory usage: 768.0+ bytes\n"
     ]
    }
   ],
   "source": [
    "df.info()"
   ]
  },
  {
   "cell_type": "code",
   "execution_count": 42,
   "id": "89ef9917",
   "metadata": {},
   "outputs": [
    {
     "data": {
      "application/vnd.microsoft.datawrangler.viewer.v0+json": {
       "columns": [
        {
         "name": "index",
         "rawType": "object",
         "type": "string"
        },
        {
         "name": "Age",
         "rawType": "float64",
         "type": "float"
        },
        {
         "name": "Score",
         "rawType": "float64",
         "type": "float"
        }
       ],
       "ref": "d09a4ba5-5177-4ca0-88ff-6241ee9ed440",
       "rows": [
        [
         "count",
         "20.0",
         "19.0"
        ],
        [
         "mean",
         "20.85",
         "75.3157894736842"
        ],
        [
         "std",
         "1.3869694338832115",
         "13.577156597997599"
        ],
        [
         "min",
         "19.0",
         "45.0"
        ],
        [
         "25%",
         "20.0",
         "68.0"
        ],
        [
         "50%",
         "21.0",
         "78.0"
        ],
        [
         "75%",
         "22.0",
         "84.5"
        ],
        [
         "max",
         "23.0",
         "95.0"
        ]
       ],
       "shape": {
        "columns": 2,
        "rows": 8
       }
      },
      "text/html": [
       "<div>\n",
       "<style scoped>\n",
       "    .dataframe tbody tr th:only-of-type {\n",
       "        vertical-align: middle;\n",
       "    }\n",
       "\n",
       "    .dataframe tbody tr th {\n",
       "        vertical-align: top;\n",
       "    }\n",
       "\n",
       "    .dataframe thead th {\n",
       "        text-align: right;\n",
       "    }\n",
       "</style>\n",
       "<table border=\"1\" class=\"dataframe\">\n",
       "  <thead>\n",
       "    <tr style=\"text-align: right;\">\n",
       "      <th></th>\n",
       "      <th>Age</th>\n",
       "      <th>Score</th>\n",
       "    </tr>\n",
       "  </thead>\n",
       "  <tbody>\n",
       "    <tr>\n",
       "      <th>count</th>\n",
       "      <td>20.000000</td>\n",
       "      <td>19.000000</td>\n",
       "    </tr>\n",
       "    <tr>\n",
       "      <th>mean</th>\n",
       "      <td>20.850000</td>\n",
       "      <td>75.315789</td>\n",
       "    </tr>\n",
       "    <tr>\n",
       "      <th>std</th>\n",
       "      <td>1.386969</td>\n",
       "      <td>13.577157</td>\n",
       "    </tr>\n",
       "    <tr>\n",
       "      <th>min</th>\n",
       "      <td>19.000000</td>\n",
       "      <td>45.000000</td>\n",
       "    </tr>\n",
       "    <tr>\n",
       "      <th>25%</th>\n",
       "      <td>20.000000</td>\n",
       "      <td>68.000000</td>\n",
       "    </tr>\n",
       "    <tr>\n",
       "      <th>50%</th>\n",
       "      <td>21.000000</td>\n",
       "      <td>78.000000</td>\n",
       "    </tr>\n",
       "    <tr>\n",
       "      <th>75%</th>\n",
       "      <td>22.000000</td>\n",
       "      <td>84.500000</td>\n",
       "    </tr>\n",
       "    <tr>\n",
       "      <th>max</th>\n",
       "      <td>23.000000</td>\n",
       "      <td>95.000000</td>\n",
       "    </tr>\n",
       "  </tbody>\n",
       "</table>\n",
       "</div>"
      ],
      "text/plain": [
       "             Age      Score\n",
       "count  20.000000  19.000000\n",
       "mean   20.850000  75.315789\n",
       "std     1.386969  13.577157\n",
       "min    19.000000  45.000000\n",
       "25%    20.000000  68.000000\n",
       "50%    21.000000  78.000000\n",
       "75%    22.000000  84.500000\n",
       "max    23.000000  95.000000"
      ]
     },
     "execution_count": 42,
     "metadata": {},
     "output_type": "execute_result"
    }
   ],
   "source": [
    "df.describe()"
   ]
  },
  {
   "cell_type": "code",
   "execution_count": null,
   "id": "df4245e7",
   "metadata": {},
   "outputs": [],
   "source": [
    "average_score = df[\"Score\"].mean()\n",
    "group_counts = df[\"Group\"].value_counts()\n"
   ]
  },
  {
   "cell_type": "markdown",
   "id": "255fded5",
   "metadata": {},
   "source": [
    "### 2 ###"
   ]
  },
  {
   "cell_type": "code",
   "execution_count": null,
   "id": "105ce7cc",
   "metadata": {},
   "outputs": [],
   "source": [
    "high_scorers_sorted = df[df[\"Score\"] > 80].sort_values(by=\"Score\")\n",
    "\n",
    "oldest_student = df.loc[df[\"Age\"].idxmax()]\n",
    "youngest_student = df.loc[df[\"Age\"].idxmin()]\n"
   ]
  },
  {
   "cell_type": "markdown",
   "id": "d7b55c0f",
   "metadata": {},
   "source": [
    "### 3 ###"
   ]
  },
  {
   "cell_type": "code",
   "execution_count": null,
   "id": "ec489116",
   "metadata": {},
   "outputs": [],
   "source": [
    "df[\"Score\"] = df[\"Score\"].fillna(df[\"Score\"].mean())\n",
    "df = df.dropna(subset=[\"Group\"])"
   ]
  },
  {
   "cell_type": "markdown",
   "id": "80d0f960",
   "metadata": {},
   "source": [
    "### 4 ###"
   ]
  },
  {
   "cell_type": "code",
   "execution_count": null,
   "id": "1cce7d3e",
   "metadata": {},
   "outputs": [],
   "source": [
    "grouped = df.groupby(\"Group\").agg(\n",
    "    Average_Score=(\"Score\", \"mean\"),\n",
    "    Median_Age=(\"Age\", \"median\"),\n",
    "    Pass_Rate=(\"Score\", lambda x: (x >= 60).mean()),\n",
    ")\n",
    "\n",
    "df[\"Passed\"] = (df[\"Score\"] >= 60).astype(int)\n"
   ]
  },
  {
   "cell_type": "code",
   "execution_count": 47,
   "id": "2d25038a",
   "metadata": {},
   "outputs": [
    {
     "data": {
      "application/vnd.microsoft.datawrangler.viewer.v0+json": {
       "columns": [
        {
         "name": "Group",
         "rawType": "object",
         "type": "string"
        },
        {
         "name": "Average_Score",
         "rawType": "float64",
         "type": "float"
        },
        {
         "name": "Median_Age",
         "rawType": "float64",
         "type": "float"
        },
        {
         "name": "Pass_Rate",
         "rawType": "float64",
         "type": "float"
        }
       ],
       "ref": "b521c8d3-1d6b-4ee7-927c-40ac2bf6397f",
       "rows": [
        [
         "A",
         "79.33082706766916",
         "20.0",
         "0.8571428571428571"
        ],
        [
         "B",
         "74.57142857142857",
         "21.0",
         "0.8571428571428571"
        ],
        [
         "C",
         "71.5",
         "22.0",
         "0.8333333333333334"
        ]
       ],
       "shape": {
        "columns": 3,
        "rows": 3
       }
      },
      "text/html": [
       "<div>\n",
       "<style scoped>\n",
       "    .dataframe tbody tr th:only-of-type {\n",
       "        vertical-align: middle;\n",
       "    }\n",
       "\n",
       "    .dataframe tbody tr th {\n",
       "        vertical-align: top;\n",
       "    }\n",
       "\n",
       "    .dataframe thead th {\n",
       "        text-align: right;\n",
       "    }\n",
       "</style>\n",
       "<table border=\"1\" class=\"dataframe\">\n",
       "  <thead>\n",
       "    <tr style=\"text-align: right;\">\n",
       "      <th></th>\n",
       "      <th>Average_Score</th>\n",
       "      <th>Median_Age</th>\n",
       "      <th>Pass_Rate</th>\n",
       "    </tr>\n",
       "    <tr>\n",
       "      <th>Group</th>\n",
       "      <th></th>\n",
       "      <th></th>\n",
       "      <th></th>\n",
       "    </tr>\n",
       "  </thead>\n",
       "  <tbody>\n",
       "    <tr>\n",
       "      <th>A</th>\n",
       "      <td>79.330827</td>\n",
       "      <td>20.0</td>\n",
       "      <td>0.857143</td>\n",
       "    </tr>\n",
       "    <tr>\n",
       "      <th>B</th>\n",
       "      <td>74.571429</td>\n",
       "      <td>21.0</td>\n",
       "      <td>0.857143</td>\n",
       "    </tr>\n",
       "    <tr>\n",
       "      <th>C</th>\n",
       "      <td>71.500000</td>\n",
       "      <td>22.0</td>\n",
       "      <td>0.833333</td>\n",
       "    </tr>\n",
       "  </tbody>\n",
       "</table>\n",
       "</div>"
      ],
      "text/plain": [
       "       Average_Score  Median_Age  Pass_Rate\n",
       "Group                                      \n",
       "A          79.330827        20.0   0.857143\n",
       "B          74.571429        21.0   0.857143\n",
       "C          71.500000        22.0   0.833333"
      ]
     },
     "execution_count": 47,
     "metadata": {},
     "output_type": "execute_result"
    }
   ],
   "source": [
    "grouped"
   ]
  },
  {
   "cell_type": "code",
   "execution_count": 48,
   "id": "dda03dce",
   "metadata": {},
   "outputs": [
    {
     "data": {
      "application/vnd.microsoft.datawrangler.viewer.v0+json": {
       "columns": [
        {
         "name": "index",
         "rawType": "int64",
         "type": "integer"
        },
        {
         "name": "Name",
         "rawType": "object",
         "type": "string"
        },
        {
         "name": "Age",
         "rawType": "int64",
         "type": "integer"
        },
        {
         "name": "Group",
         "rawType": "object",
         "type": "string"
        },
        {
         "name": "Score",
         "rawType": "float64",
         "type": "float"
        },
        {
         "name": "Passed",
         "rawType": "int64",
         "type": "integer"
        }
       ],
       "ref": "25f1f17f-3041-4760-9182-4b0c6acfb5ad",
       "rows": [
        [
         "0",
         "Anna",
         "19",
         "A",
         "85.0",
         "1"
        ],
        [
         "1",
         "Boris",
         "21",
         "B",
         "78.0",
         "1"
        ],
        [
         "2",
         "Clara",
         "20",
         "A",
         "92.0",
         "1"
        ],
        [
         "3",
         "Dmitry",
         "22",
         "C",
         "67.0",
         "1"
        ],
        [
         "4",
         "Elena",
         "19",
         "B",
         "55.0",
         "0"
        ],
        [
         "5",
         "Fedor",
         "23",
         "C",
         "88.0",
         "1"
        ],
        [
         "6",
         "Galina",
         "20",
         "A",
         "95.0",
         "1"
        ],
        [
         "7",
         "Igor",
         "21",
         "B",
         "72.0",
         "1"
        ],
        [
         "8",
         "Julia",
         "22",
         "C",
         "60.0",
         "1"
        ],
        [
         "9",
         "Kirill",
         "20",
         "A",
         "45.0",
         "0"
        ],
        [
         "10",
         "Lena",
         "19",
         "B",
         "81.0",
         "1"
        ],
        [
         "11",
         "Maxim",
         "23",
         "C",
         "79.0",
         "1"
        ],
        [
         "12",
         "Nina",
         "21",
         "A",
         "90.0",
         "1"
        ],
        [
         "13",
         "Oleg",
         "22",
         "B",
         "84.0",
         "1"
        ],
        [
         "14",
         "Polina",
         "20",
         "C",
         "58.0",
         "0"
        ],
        [
         "15",
         "Roman",
         "19",
         "A",
         "73.0",
         "1"
        ],
        [
         "16",
         "Sofia",
         "21",
         "B",
         "69.0",
         "1"
        ],
        [
         "17",
         "Timur",
         "22",
         "C",
         "77.0",
         "1"
        ],
        [
         "18",
         "Ulyana",
         "20",
         "A",
         "75.3157894736842",
         "1"
        ],
        [
         "19",
         "Victor",
         "23",
         "B",
         "83.0",
         "1"
        ]
       ],
       "shape": {
        "columns": 5,
        "rows": 20
       }
      },
      "text/html": [
       "<div>\n",
       "<style scoped>\n",
       "    .dataframe tbody tr th:only-of-type {\n",
       "        vertical-align: middle;\n",
       "    }\n",
       "\n",
       "    .dataframe tbody tr th {\n",
       "        vertical-align: top;\n",
       "    }\n",
       "\n",
       "    .dataframe thead th {\n",
       "        text-align: right;\n",
       "    }\n",
       "</style>\n",
       "<table border=\"1\" class=\"dataframe\">\n",
       "  <thead>\n",
       "    <tr style=\"text-align: right;\">\n",
       "      <th></th>\n",
       "      <th>Name</th>\n",
       "      <th>Age</th>\n",
       "      <th>Group</th>\n",
       "      <th>Score</th>\n",
       "      <th>Passed</th>\n",
       "    </tr>\n",
       "  </thead>\n",
       "  <tbody>\n",
       "    <tr>\n",
       "      <th>0</th>\n",
       "      <td>Anna</td>\n",
       "      <td>19</td>\n",
       "      <td>A</td>\n",
       "      <td>85.000000</td>\n",
       "      <td>1</td>\n",
       "    </tr>\n",
       "    <tr>\n",
       "      <th>1</th>\n",
       "      <td>Boris</td>\n",
       "      <td>21</td>\n",
       "      <td>B</td>\n",
       "      <td>78.000000</td>\n",
       "      <td>1</td>\n",
       "    </tr>\n",
       "    <tr>\n",
       "      <th>2</th>\n",
       "      <td>Clara</td>\n",
       "      <td>20</td>\n",
       "      <td>A</td>\n",
       "      <td>92.000000</td>\n",
       "      <td>1</td>\n",
       "    </tr>\n",
       "    <tr>\n",
       "      <th>3</th>\n",
       "      <td>Dmitry</td>\n",
       "      <td>22</td>\n",
       "      <td>C</td>\n",
       "      <td>67.000000</td>\n",
       "      <td>1</td>\n",
       "    </tr>\n",
       "    <tr>\n",
       "      <th>4</th>\n",
       "      <td>Elena</td>\n",
       "      <td>19</td>\n",
       "      <td>B</td>\n",
       "      <td>55.000000</td>\n",
       "      <td>0</td>\n",
       "    </tr>\n",
       "    <tr>\n",
       "      <th>5</th>\n",
       "      <td>Fedor</td>\n",
       "      <td>23</td>\n",
       "      <td>C</td>\n",
       "      <td>88.000000</td>\n",
       "      <td>1</td>\n",
       "    </tr>\n",
       "    <tr>\n",
       "      <th>6</th>\n",
       "      <td>Galina</td>\n",
       "      <td>20</td>\n",
       "      <td>A</td>\n",
       "      <td>95.000000</td>\n",
       "      <td>1</td>\n",
       "    </tr>\n",
       "    <tr>\n",
       "      <th>7</th>\n",
       "      <td>Igor</td>\n",
       "      <td>21</td>\n",
       "      <td>B</td>\n",
       "      <td>72.000000</td>\n",
       "      <td>1</td>\n",
       "    </tr>\n",
       "    <tr>\n",
       "      <th>8</th>\n",
       "      <td>Julia</td>\n",
       "      <td>22</td>\n",
       "      <td>C</td>\n",
       "      <td>60.000000</td>\n",
       "      <td>1</td>\n",
       "    </tr>\n",
       "    <tr>\n",
       "      <th>9</th>\n",
       "      <td>Kirill</td>\n",
       "      <td>20</td>\n",
       "      <td>A</td>\n",
       "      <td>45.000000</td>\n",
       "      <td>0</td>\n",
       "    </tr>\n",
       "    <tr>\n",
       "      <th>10</th>\n",
       "      <td>Lena</td>\n",
       "      <td>19</td>\n",
       "      <td>B</td>\n",
       "      <td>81.000000</td>\n",
       "      <td>1</td>\n",
       "    </tr>\n",
       "    <tr>\n",
       "      <th>11</th>\n",
       "      <td>Maxim</td>\n",
       "      <td>23</td>\n",
       "      <td>C</td>\n",
       "      <td>79.000000</td>\n",
       "      <td>1</td>\n",
       "    </tr>\n",
       "    <tr>\n",
       "      <th>12</th>\n",
       "      <td>Nina</td>\n",
       "      <td>21</td>\n",
       "      <td>A</td>\n",
       "      <td>90.000000</td>\n",
       "      <td>1</td>\n",
       "    </tr>\n",
       "    <tr>\n",
       "      <th>13</th>\n",
       "      <td>Oleg</td>\n",
       "      <td>22</td>\n",
       "      <td>B</td>\n",
       "      <td>84.000000</td>\n",
       "      <td>1</td>\n",
       "    </tr>\n",
       "    <tr>\n",
       "      <th>14</th>\n",
       "      <td>Polina</td>\n",
       "      <td>20</td>\n",
       "      <td>C</td>\n",
       "      <td>58.000000</td>\n",
       "      <td>0</td>\n",
       "    </tr>\n",
       "    <tr>\n",
       "      <th>15</th>\n",
       "      <td>Roman</td>\n",
       "      <td>19</td>\n",
       "      <td>A</td>\n",
       "      <td>73.000000</td>\n",
       "      <td>1</td>\n",
       "    </tr>\n",
       "    <tr>\n",
       "      <th>16</th>\n",
       "      <td>Sofia</td>\n",
       "      <td>21</td>\n",
       "      <td>B</td>\n",
       "      <td>69.000000</td>\n",
       "      <td>1</td>\n",
       "    </tr>\n",
       "    <tr>\n",
       "      <th>17</th>\n",
       "      <td>Timur</td>\n",
       "      <td>22</td>\n",
       "      <td>C</td>\n",
       "      <td>77.000000</td>\n",
       "      <td>1</td>\n",
       "    </tr>\n",
       "    <tr>\n",
       "      <th>18</th>\n",
       "      <td>Ulyana</td>\n",
       "      <td>20</td>\n",
       "      <td>A</td>\n",
       "      <td>75.315789</td>\n",
       "      <td>1</td>\n",
       "    </tr>\n",
       "    <tr>\n",
       "      <th>19</th>\n",
       "      <td>Victor</td>\n",
       "      <td>23</td>\n",
       "      <td>B</td>\n",
       "      <td>83.000000</td>\n",
       "      <td>1</td>\n",
       "    </tr>\n",
       "  </tbody>\n",
       "</table>\n",
       "</div>"
      ],
      "text/plain": [
       "      Name  Age Group      Score  Passed\n",
       "0     Anna   19     A  85.000000       1\n",
       "1    Boris   21     B  78.000000       1\n",
       "2    Clara   20     A  92.000000       1\n",
       "3   Dmitry   22     C  67.000000       1\n",
       "4    Elena   19     B  55.000000       0\n",
       "5    Fedor   23     C  88.000000       1\n",
       "6   Galina   20     A  95.000000       1\n",
       "7     Igor   21     B  72.000000       1\n",
       "8    Julia   22     C  60.000000       1\n",
       "9   Kirill   20     A  45.000000       0\n",
       "10    Lena   19     B  81.000000       1\n",
       "11   Maxim   23     C  79.000000       1\n",
       "12    Nina   21     A  90.000000       1\n",
       "13    Oleg   22     B  84.000000       1\n",
       "14  Polina   20     C  58.000000       0\n",
       "15   Roman   19     A  73.000000       1\n",
       "16   Sofia   21     B  69.000000       1\n",
       "17   Timur   22     C  77.000000       1\n",
       "18  Ulyana   20     A  75.315789       1\n",
       "19  Victor   23     B  83.000000       1"
      ]
     },
     "execution_count": 48,
     "metadata": {},
     "output_type": "execute_result"
    }
   ],
   "source": [
    "df"
   ]
  },
  {
   "cell_type": "markdown",
   "id": "70391af1",
   "metadata": {},
   "source": [
    "### 5 ###"
   ]
  },
  {
   "cell_type": "code",
   "execution_count": null,
   "id": "4abe71b1",
   "metadata": {},
   "outputs": [
    {
     "data": {
      "image/png": "[encoded data removed]",
      "text/plain": [
       "<Figure size 1600x900 with 2 Axes>"
      ]
     },
     "metadata": {},
     "output_type": "display_data"
    }
   ],
   "source": [
    "plt.figure(figsize=(16, 9))\n",
    "\n",
    "plt.subplot(1, 2, 1)\n",
    "plt.hist(df[\"Score\"], bins=10, color=\"skyblue\", edgecolor=\"black\")\n",
    "plt.title(\"Распределение баллов\")\n",
    "plt.xlabel(\"Баллы\")\n",
    "plt.ylabel(\"Количество студентов\")\n",
    "\n",
    "plt.subplot(1, 2, 2)\n",
    "grouped[\"Average_Score\"].plot(kind=\"bar\", color=\"orange\", edgecolor=\"black\")\n",
    "plt.title(\"Средний балл по группам\")\n",
    "plt.xlabel(\"Группа\")\n",
    "plt.ylabel(\"Средний балл\")\n",
    "\n",
    "plt.tight_layout()\n",
    "plt.show()\n"
   ]
  },
  {
   "cell_type": "code",
   "execution_count": null,
   "id": "ef354e36",
   "metadata": {},
   "outputs": [],
   "source": []
  }
 ],
 "metadata": {
  "kernelspec": {
   "display_name": "main_nn",
   "language": "python",
   "name": "python3"
  },
  "language_info": {
   "codemirror_mode": {
    "name": "ipython",
    "version": 3
   },
   "file_extension": ".py",
   "mimetype": "text/x-python",
   "name": "python",
   "nbconvert_exporter": "python",
   "pygments_lexer": "ipython3",
   "version": "3.10.17"
  }
 },
 "nbformat": 4,
 "nbformat_minor": 5
}
